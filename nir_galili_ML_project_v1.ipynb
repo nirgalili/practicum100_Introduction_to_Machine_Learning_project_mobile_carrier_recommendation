{
 "cells": [
  {
   "cell_type": "markdown",
   "id": "3fbd0e73",
   "metadata": {},
   "source": [
    "# Step 1. Open the data file and read the general information"
   ]
  },
  {
   "cell_type": "markdown",
   "id": "826a85c2",
   "metadata": {},
   "source": [
    "## Project description\n",
    "For a mobile carrier, Megaline, we want to develop a model that would analyze subscribers' behavior and recommend one of Megaline's newer plans: Smart or Ultra. We need to develop a model that will pick the right plan. We will try to develop a model with the highest possible accuracy. In this project, the threshold for accuracy is 0.75. We will check the accuracy using the test dataset."
   ]
  },
  {
   "cell_type": "markdown",
   "id": "5e78d6f5",
   "metadata": {},
   "source": [
    "## Import"
   ]
  },
  {
   "cell_type": "code",
   "execution_count": 2,
   "id": "a6f12005",
   "metadata": {},
   "outputs": [],
   "source": [
    "import pandas as pd\n",
    "from sklearn.tree import DecisionTreeClassifier\n",
    "from sklearn.ensemble import RandomForestClassifier\n",
    "from sklearn.linear_model import LogisticRegression\n",
    "import joblib\n",
    "from sklearn.metrics import accuracy_score\n",
    "from sklearn.model_selection import train_test_split"
   ]
  },
  {
   "cell_type": "markdown",
   "id": "e8adf4cf",
   "metadata": {},
   "source": [
    "## Load data"
   ]
  },
  {
   "cell_type": "code",
   "execution_count": 3,
   "id": "44a880ba",
   "metadata": {},
   "outputs": [],
   "source": [
    "try:\n",
    "    df = pd.read_csv('users_behavior.csv')\n",
    "except:\n",
    "    df = pd.read_csv('datasets/users_behavior.csv')"
   ]
  },
  {
   "cell_type": "markdown",
   "id": "e02e5aa1",
   "metadata": {},
   "source": [
    "## Step 2. Check the data"
   ]
  },
  {
   "cell_type": "markdown",
   "id": "26abf0f3",
   "metadata": {},
   "source": [
    "- сalls — number of calls,\n",
    "- minutes — total call duration in minutes,\n",
    "- messages — number of text messages,\n",
    "- mb_used — Internet traffic used in MB,\n",
    "- is_ultra — plan for the current month (Ultra - 1, Smart - 0)."
   ]
  },
  {
   "cell_type": "code",
   "execution_count": 5,
   "id": "3a42f8d9",
   "metadata": {},
   "outputs": [
    {
     "name": "stdout",
     "output_type": "stream",
     "text": [
      "<class 'pandas.core.frame.DataFrame'>\n",
      "RangeIndex: 3214 entries, 0 to 3213\n",
      "Data columns (total 5 columns):\n",
      " #   Column    Non-Null Count  Dtype  \n",
      "---  ------    --------------  -----  \n",
      " 0   calls     3214 non-null   float64\n",
      " 1   minutes   3214 non-null   float64\n",
      " 2   messages  3214 non-null   float64\n",
      " 3   mb_used   3214 non-null   float64\n",
      " 4   is_ultra  3214 non-null   int64  \n",
      "dtypes: float64(4), int64(1)\n",
      "memory usage: 125.7 KB\n"
     ]
    }
   ],
   "source": [
    "df.info()"
   ]
  },
  {
   "cell_type": "markdown",
   "id": "f4786d79",
   "metadata": {},
   "source": [
    "No missing values"
   ]
  },
  {
   "cell_type": "code",
   "execution_count": 7,
   "id": "9eff934c",
   "metadata": {},
   "outputs": [
    {
     "data": {
      "text/html": [
       "<div>\n",
       "<style scoped>\n",
       "    .dataframe tbody tr th:only-of-type {\n",
       "        vertical-align: middle;\n",
       "    }\n",
       "\n",
       "    .dataframe tbody tr th {\n",
       "        vertical-align: top;\n",
       "    }\n",
       "\n",
       "    .dataframe thead th {\n",
       "        text-align: right;\n",
       "    }\n",
       "</style>\n",
       "<table border=\"1\" class=\"dataframe\">\n",
       "  <thead>\n",
       "    <tr style=\"text-align: right;\">\n",
       "      <th></th>\n",
       "      <th>calls</th>\n",
       "      <th>minutes</th>\n",
       "      <th>messages</th>\n",
       "      <th>mb_used</th>\n",
       "      <th>is_ultra</th>\n",
       "    </tr>\n",
       "  </thead>\n",
       "  <tbody>\n",
       "    <tr>\n",
       "      <th>365</th>\n",
       "      <td>20.0</td>\n",
       "      <td>131.97</td>\n",
       "      <td>23.0</td>\n",
       "      <td>26720.17</td>\n",
       "      <td>1</td>\n",
       "    </tr>\n",
       "    <tr>\n",
       "      <th>2242</th>\n",
       "      <td>9.0</td>\n",
       "      <td>72.66</td>\n",
       "      <td>6.0</td>\n",
       "      <td>1315.81</td>\n",
       "      <td>1</td>\n",
       "    </tr>\n",
       "    <tr>\n",
       "      <th>657</th>\n",
       "      <td>82.0</td>\n",
       "      <td>466.26</td>\n",
       "      <td>59.0</td>\n",
       "      <td>16996.03</td>\n",
       "      <td>0</td>\n",
       "    </tr>\n",
       "    <tr>\n",
       "      <th>1875</th>\n",
       "      <td>64.0</td>\n",
       "      <td>418.58</td>\n",
       "      <td>43.0</td>\n",
       "      <td>24877.83</td>\n",
       "      <td>0</td>\n",
       "    </tr>\n",
       "    <tr>\n",
       "      <th>1024</th>\n",
       "      <td>100.0</td>\n",
       "      <td>709.40</td>\n",
       "      <td>17.0</td>\n",
       "      <td>16964.33</td>\n",
       "      <td>0</td>\n",
       "    </tr>\n",
       "  </tbody>\n",
       "</table>\n",
       "</div>"
      ],
      "text/plain": [
       "      calls  minutes  messages   mb_used  is_ultra\n",
       "365    20.0   131.97      23.0  26720.17         1\n",
       "2242    9.0    72.66       6.0   1315.81         1\n",
       "657    82.0   466.26      59.0  16996.03         0\n",
       "1875   64.0   418.58      43.0  24877.83         0\n",
       "1024  100.0   709.40      17.0  16964.33         0"
      ]
     },
     "execution_count": 7,
     "metadata": {},
     "output_type": "execute_result"
    }
   ],
   "source": [
    "df.sample(5)"
   ]
  },
  {
   "cell_type": "code",
   "execution_count": 10,
   "id": "036bfd30",
   "metadata": {},
   "outputs": [
    {
     "data": {
      "text/plain": [
       "0    2229\n",
       "1     985\n",
       "Name: is_ultra, dtype: int64"
      ]
     },
     "execution_count": 10,
     "metadata": {},
     "output_type": "execute_result"
    }
   ],
   "source": [
    "df['is_ultra'].value_counts()"
   ]
  },
  {
   "cell_type": "code",
   "execution_count": 18,
   "id": "ca4633c4",
   "metadata": {
    "scrolled": true
   },
   "outputs": [
    {
     "data": {
      "text/plain": [
       "0    2229\n",
       "1     985\n",
       "Name: is_ultra, dtype: int64"
      ]
     },
     "execution_count": 18,
     "metadata": {},
     "output_type": "execute_result"
    }
   ],
   "source": [
    "df['is_ultra'].value_counts()"
   ]
  },
  {
   "cell_type": "markdown",
   "id": "1ab0ed6f",
   "metadata": {},
   "source": [
    "More then double amount of Smart then Ultra plan. We should remember to see that the split for validation keeps the same proportion and not worse. We will create a function to calculate this proportion:"
   ]
  },
  {
   "cell_type": "code",
   "execution_count": 16,
   "id": "ba6bfaa2",
   "metadata": {},
   "outputs": [],
   "source": [
    "def proportion_of_ultra(df):\n",
    "    value_count = df['is_ultra'].value_counts()\n",
    "    proportion = df['is_ultra'].value_counts()[1]/(\n",
    "        df['is_ultra'].value_counts()[1]+df['is_ultra'].value_counts()[0])\n",
    "    return round(proportion, 2)"
   ]
  },
  {
   "cell_type": "markdown",
   "id": "53c5ebaa",
   "metadata": {},
   "source": [
    "# Split the source data into a training set, a validation set, and a test set."
   ]
  },
  {
   "cell_type": "code",
   "execution_count": 12,
   "id": "7a9f0262",
   "metadata": {},
   "outputs": [],
   "source": [
    "df_train, df_valid_and_test = train_test_split(df, test_size=0.4, random_state=12345)\n",
    "df_valid, df_test = train_test_split(df_valid_and_test, test_size=0.4, random_state=12345)"
   ]
  },
  {
   "cell_type": "markdown",
   "id": "24bcc94f",
   "metadata": {},
   "source": [
    "See if the proportion of ultra plan stay the same after split"
   ]
  },
  {
   "cell_type": "code",
   "execution_count": 20,
   "id": "9a7e2964",
   "metadata": {},
   "outputs": [
    {
     "name": "stdout",
     "output_type": "stream",
     "text": [
      "df_train proportion: 0.31\n",
      "df_valid proportion: 0.3\n",
      "df_test proportion: 0.32\n"
     ]
    }
   ],
   "source": [
    "print('df_train proportion:', proportion_of_ultra(df_train))\n",
    "print('df_valid proportion:', proportion_of_ultra(df_valid))\n",
    "print('df_test proportion:', proportion_of_ultra(df_test))"
   ]
  },
  {
   "cell_type": "markdown",
   "id": "64b92e78",
   "metadata": {},
   "source": [
    "yes"
   ]
  },
  {
   "cell_type": "markdown",
   "id": "c0b823f0",
   "metadata": {},
   "source": [
    "# Investigate the quality of different models by changing hyperparameters. Briefly describe the findings of the study."
   ]
  },
  {
   "cell_type": "markdown",
   "id": "c1f58dde",
   "metadata": {},
   "source": [
    "Because our task is to recommend between plans then any wrong recommendation will be considered as error. Whether we decide to recommend for Ultra when the target for this observation was Smart or the opposite. Therefore we will evaluate the model with accuracy metric."
   ]
  },
  {
   "cell_type": "markdown",
   "id": "42bf58e9",
   "metadata": {},
   "source": [
    "This is a classification task so we will check which learning algorithm for classification yields the best accuracy. The models we will check are: Decision tree, Random forest and Logistic regression"
   ]
  },
  {
   "cell_type": "markdown",
   "id": "b6ec0456",
   "metadata": {},
   "source": [
    "create features and target for the models check"
   ]
  },
  {
   "cell_type": "code",
   "execution_count": 26,
   "id": "334e13f1",
   "metadata": {},
   "outputs": [],
   "source": [
    "features_train = df_train.drop(['is_ultra'], axis=1)\n",
    "target_train = df_train['is_ultra']\n",
    "features_valid = df_valid.drop(['is_ultra'], axis=1)\n",
    "target_valid = df_valid['is_ultra']"
   ]
  },
  {
   "cell_type": "markdown",
   "id": "a4c6887c",
   "metadata": {},
   "source": [
    "## Decision tree"
   ]
  },
  {
   "cell_type": "markdown",
   "id": "3511799a",
   "metadata": {},
   "source": [
    "loop tree depth to optimize the model depth with best accuracy"
   ]
  },
  {
   "cell_type": "code",
   "execution_count": 27,
   "id": "df641e31",
   "metadata": {},
   "outputs": [
    {
     "name": "stdout",
     "output_type": "stream",
     "text": [
      "max_depth = 1 : 0.7509727626459144\n",
      "max_depth = 2 : 0.7821011673151751\n",
      "max_depth = 3 : 0.7872892347600519\n",
      "max_depth = 4 : 0.7833981841763943\n",
      "max_depth = 5 : 0.7808041504539559\n"
     ]
    }
   ],
   "source": [
    "for depth in range(1,6):\n",
    "    model = DecisionTreeClassifier(random_state=12345, max_depth=depth) # create a model with the given depth\n",
    "    model.fit(features_train, target_train) # train the model\n",
    "    predictions_valid = model.predict(features_valid) # get the model's predictions\n",
    "    result = accuracy_score(target_valid, predictions_valid) # calculate the accuracy\n",
    "    print(\"max_depth =\", depth, \": \", end='')\n",
    "    print(result)"
   ]
  },
  {
   "cell_type": "markdown",
   "id": "c209905c",
   "metadata": {},
   "source": [
    "Depth 3 give the highest accuracy - 0.787"
   ]
  },
  {
   "cell_type": "markdown",
   "id": "5d80fe45",
   "metadata": {},
   "source": [
    "## Random forest"
   ]
  },
  {
   "cell_type": "markdown",
   "id": "041f168f",
   "metadata": {},
   "source": [
    "loop tree number of trees to optimize the model with best accuracy"
   ]
  },
  {
   "cell_type": "code",
   "execution_count": 33,
   "id": "cd49b53f",
   "metadata": {},
   "outputs": [
    {
     "name": "stdout",
     "output_type": "stream",
     "text": [
      "Accuracy of the best model on the validation set (n_estimators = 8): 0.7717250324254216\n"
     ]
    }
   ],
   "source": [
    "best_score = 0\n",
    "best_est = 0\n",
    "for est in range(1, 10): # choose hyperparameter range\n",
    "    model = RandomForestClassifier(random_state=54321, n_estimators=est) # set number of trees\n",
    "    model.fit(features_train, target_train) # train model on training set\n",
    "    score = model.score(features_valid, target_valid) # calculate accuracy score on validation set\n",
    "    if score > best_score:\n",
    "        best_score = score# save best accuracy score on validation set\n",
    "        best_est = est# save number of estimators corresponding to best accuracy score\n",
    "\n",
    "print(\"Accuracy of the best model on the validation set (n_estimators = {}): {}\".format(best_est, best_score))"
   ]
  },
  {
   "cell_type": "code",
   "execution_count": 21,
   "id": "de0b981a",
   "metadata": {},
   "outputs": [
    {
     "data": {
      "text/html": [
       "<div>\n",
       "<style scoped>\n",
       "    .dataframe tbody tr th:only-of-type {\n",
       "        vertical-align: middle;\n",
       "    }\n",
       "\n",
       "    .dataframe tbody tr th {\n",
       "        vertical-align: top;\n",
       "    }\n",
       "\n",
       "    .dataframe thead th {\n",
       "        text-align: right;\n",
       "    }\n",
       "</style>\n",
       "<table border=\"1\" class=\"dataframe\">\n",
       "  <thead>\n",
       "    <tr style=\"text-align: right;\">\n",
       "      <th></th>\n",
       "      <th>calls</th>\n",
       "      <th>minutes</th>\n",
       "      <th>messages</th>\n",
       "      <th>mb_used</th>\n",
       "      <th>is_ultra</th>\n",
       "    </tr>\n",
       "  </thead>\n",
       "  <tbody>\n",
       "    <tr>\n",
       "      <th>3027</th>\n",
       "      <td>60.0</td>\n",
       "      <td>431.56</td>\n",
       "      <td>26.0</td>\n",
       "      <td>14751.26</td>\n",
       "      <td>0</td>\n",
       "    </tr>\n",
       "    <tr>\n",
       "      <th>434</th>\n",
       "      <td>33.0</td>\n",
       "      <td>265.17</td>\n",
       "      <td>59.0</td>\n",
       "      <td>17398.02</td>\n",
       "      <td>0</td>\n",
       "    </tr>\n",
       "    <tr>\n",
       "      <th>1226</th>\n",
       "      <td>52.0</td>\n",
       "      <td>341.83</td>\n",
       "      <td>68.0</td>\n",
       "      <td>15462.38</td>\n",
       "      <td>0</td>\n",
       "    </tr>\n",
       "    <tr>\n",
       "      <th>1054</th>\n",
       "      <td>42.0</td>\n",
       "      <td>226.18</td>\n",
       "      <td>21.0</td>\n",
       "      <td>13243.48</td>\n",
       "      <td>0</td>\n",
       "    </tr>\n",
       "    <tr>\n",
       "      <th>1842</th>\n",
       "      <td>30.0</td>\n",
       "      <td>198.42</td>\n",
       "      <td>0.0</td>\n",
       "      <td>8189.53</td>\n",
       "      <td>0</td>\n",
       "    </tr>\n",
       "    <tr>\n",
       "      <th>...</th>\n",
       "      <td>...</td>\n",
       "      <td>...</td>\n",
       "      <td>...</td>\n",
       "      <td>...</td>\n",
       "      <td>...</td>\n",
       "    </tr>\n",
       "    <tr>\n",
       "      <th>2817</th>\n",
       "      <td>12.0</td>\n",
       "      <td>86.62</td>\n",
       "      <td>22.0</td>\n",
       "      <td>36628.85</td>\n",
       "      <td>1</td>\n",
       "    </tr>\n",
       "    <tr>\n",
       "      <th>546</th>\n",
       "      <td>65.0</td>\n",
       "      <td>458.46</td>\n",
       "      <td>0.0</td>\n",
       "      <td>15214.25</td>\n",
       "      <td>1</td>\n",
       "    </tr>\n",
       "    <tr>\n",
       "      <th>382</th>\n",
       "      <td>144.0</td>\n",
       "      <td>906.18</td>\n",
       "      <td>0.0</td>\n",
       "      <td>25002.44</td>\n",
       "      <td>1</td>\n",
       "    </tr>\n",
       "    <tr>\n",
       "      <th>2177</th>\n",
       "      <td>38.0</td>\n",
       "      <td>301.27</td>\n",
       "      <td>37.0</td>\n",
       "      <td>28914.24</td>\n",
       "      <td>1</td>\n",
       "    </tr>\n",
       "    <tr>\n",
       "      <th>482</th>\n",
       "      <td>160.0</td>\n",
       "      <td>1084.05</td>\n",
       "      <td>95.0</td>\n",
       "      <td>36843.92</td>\n",
       "      <td>1</td>\n",
       "    </tr>\n",
       "  </tbody>\n",
       "</table>\n",
       "<p>1928 rows × 5 columns</p>\n",
       "</div>"
      ],
      "text/plain": [
       "      calls  minutes  messages   mb_used  is_ultra\n",
       "3027   60.0   431.56      26.0  14751.26         0\n",
       "434    33.0   265.17      59.0  17398.02         0\n",
       "1226   52.0   341.83      68.0  15462.38         0\n",
       "1054   42.0   226.18      21.0  13243.48         0\n",
       "1842   30.0   198.42       0.0   8189.53         0\n",
       "...     ...      ...       ...       ...       ...\n",
       "2817   12.0    86.62      22.0  36628.85         1\n",
       "546    65.0   458.46       0.0  15214.25         1\n",
       "382   144.0   906.18       0.0  25002.44         1\n",
       "2177   38.0   301.27      37.0  28914.24         1\n",
       "482   160.0  1084.05      95.0  36843.92         1\n",
       "\n",
       "[1928 rows x 5 columns]"
      ]
     },
     "execution_count": 21,
     "metadata": {},
     "output_type": "execute_result"
    }
   ],
   "source": [
    "df_train"
   ]
  },
  {
   "cell_type": "code",
   "execution_count": null,
   "id": "1b00334e",
   "metadata": {},
   "outputs": [],
   "source": []
  }
 ],
 "metadata": {
  "kernelspec": {
   "display_name": "Python 3 (ipykernel)",
   "language": "python",
   "name": "python3"
  },
  "language_info": {
   "codemirror_mode": {
    "name": "ipython",
    "version": 3
   },
   "file_extension": ".py",
   "mimetype": "text/x-python",
   "name": "python",
   "nbconvert_exporter": "python",
   "pygments_lexer": "ipython3",
   "version": "3.9.7"
  },
  "toc": {
   "base_numbering": 1,
   "nav_menu": {},
   "number_sections": true,
   "sideBar": true,
   "skip_h1_title": false,
   "title_cell": "Table of Contents",
   "title_sidebar": "Contents",
   "toc_cell": false,
   "toc_position": {},
   "toc_section_display": true,
   "toc_window_display": false
  }
 },
 "nbformat": 4,
 "nbformat_minor": 5
}
